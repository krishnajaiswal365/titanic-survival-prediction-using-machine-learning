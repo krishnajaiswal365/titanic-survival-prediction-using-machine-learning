{
 "cells": [
  {
   "cell_type": "markdown",
   "id": "f823665f",
   "metadata": {
    "papermill": {
     "duration": 0.013626,
     "end_time": "2024-09-14T19:45:39.420486",
     "exception": false,
     "start_time": "2024-09-14T19:45:39.406860",
     "status": "completed"
    },
    "tags": []
   },
   "source": [
    "# Titanic Survival Prediction with Machine Learning\n",
    "\n",
    "### Kaggle Competition: Titanic - Machine Learning from Disaster\n",
    "\n",
    "This notebook focuses on the Titanic dataset to predict whether a passenger survived or not, using various classification algorithms. We compare multiple machine learning models based on accuracy and ROC AUC metrics, followed by saving the best-performing model.\n",
    "\n",
    "---\n",
    "\n",
    "## Steps Outline:\n",
    "\n",
    "1. **Understanding the Data**:\n",
    "   - Explore the Titanic dataset, understand the features, and define the target variable.\n",
    "   - Identify and handle missing values, outliers, and inconsistencies in the dataset.\n",
    "\n",
    "2. **Exploratory Data Analysis (EDA)**:\n",
    "   - Analyze and visualize the dataset to understand relationships between features.\n",
    "   - Identify missing values, outliers, and correlations.\n",
    "\n",
    "3. **Data Preprocessing**:\n",
    "   - Impute missing values using `SimpleImputer`.\n",
    "   - Scale numeric features using `RobustScaler`.\n",
    "   - Apply one-hot encoding for categorical variables.\n",
    "   - Use `ColumnTransformer` to combine these steps.\n",
    "\n",
    "4. **Modeling and Comparison**:\n",
    "   - Train and evaluate the following models:\n",
    "     - Logistic Regression\n",
    "     - Random Forest\n",
    "     - Support Vector Machine\n",
    "     - K-Nearest Neighbors\n",
    "     - Decision Tree\n",
    "     - Gradient Boosting\n",
    "   - Compare models using **Accuracy** and **ROC AUC**.\n",
    "\n",
    "5. **Model Selection**:\n",
    "   - **Random Forest** was chosen for its highest **ROC AUC** (`0.8923`), indicating the best balance between accuracy and the ability to distinguish between classes.\n",
    "\n",
    "6. **Model Saving**:\n",
    "   - Save the Random Forest model using `joblib` for deployment.\n",
    "\n",
    "7. **Submission**:\n",
    "   - Generate predictions on the test set and prepare `submission.csv` for Kaggle submission.\n",
    "\n",
    "---\n",
    "\n",
    "## Understanding the Data\n",
    "\n",
    "The Titanic dataset contains demographic and travel-related information for passengers aboard the Titanic. The goal is to predict whether a passenger survived the disaster (target variable: `Survived`).\n",
    "\n",
    "### Key Features:\n",
    "- **PassengerId**: Unique identifier for each passenger.\n",
    "- **Pclass**: Passenger's class (1st, 2nd, 3rd).\n",
    "- **Name**: Passenger's name.\n",
    "- **Sex**: Passenger's gender (male or female).\n",
    "- **Age**: Passenger's age.\n",
    "- **SibSp**: Number of siblings or spouses aboard the Titanic.\n",
    "- **Parch**: Number of parents or children aboard the Titanic.\n",
    "- **Ticket**: Ticket number.\n",
    "- **Fare**: Passenger's fare.\n",
    "- **Cabin**: Cabin number.\n",
    "- **Embarked**: Port of embarkation (C = Cherbourg, Q = Queenstown, S = Southampton).\n",
    "\n",
    "### Target Variable:\n",
    "- **Survived**: 1 if the passenger survived, 0 if not.\n",
    "\n",
    "### Approach:\n",
    "- **Identify Missing Values**: Missing values are present in the `Age`, `Cabin`, and `Embarked` columns. We'll impute the missing data using appropriate strategies (median for numerical, most frequent for categorical).\n",
    "- **Understand the Data Distributions**: Visualize key variables like `Age`, `Fare`, `Pclass`, and their correlation with `Survived` to understand their impact on the target.\n",
    "- **Feature Engineering**: Create new features like `FamilySize` to enhance the model's predictive power.\n",
    "\n",
    "---\n",
    "\n",
    "## Exploratory Data Analysis (EDA)\n",
    "\n",
    "### Visualizations:\n",
    "- Passenger class distribution (`Pclass`).\n",
    "- Age distribution, including missing values.\n",
    "- Survival distribution by sex, age, and class.\n",
    "- Family size and its correlation with survival (`FamilySize` feature derived from `SibSp` and `Parch`).\n",
    "\n",
    "### Family Size Definition:\n",
    "- **FamilySize** is calculated as the sum of siblings/spouses (`SibSp`) and parents/children (`Parch`), plus 1 (representing the passenger themselves).\n",
    "\n",
    "---\n",
    "\n",
    "## Data Preprocessing\n",
    "\n",
    "### Missing Values Imputation:\n",
    "- Missing values in the `Age`, `Fare`, and `Embarked` columns are handled using appropriate imputation strategies (`median` for numeric data, `most frequent` for categorical data).\n",
    "\n",
    "### Feature Scaling:\n",
    "- We use **RobustScaler** to scale numeric features, making the model more robust to outliers.\n",
    "\n",
    "### Column Transformer:\n",
    "- The column transformer applies different transformations to numerical and categorical features, ensuring an efficient preprocessing pipeline.\n",
    "\n",
    "---\n",
    "\n",
    "## Code Implementation\n",
    "Below is the code implementation for the steps outlined above..."
   ]
  },
  {
   "cell_type": "markdown",
   "id": "bbbec223",
   "metadata": {
    "papermill": {
     "duration": 0.013412,
     "end_time": "2024-09-14T19:45:39.446986",
     "exception": false,
     "start_time": "2024-09-14T19:45:39.433574",
     "status": "completed"
    },
    "tags": []
   },
   "source": [
    "### 1. Importing necessary libraries"
   ]
  },
  {
   "cell_type": "code",
   "execution_count": 1,
   "id": "6eb59285",
   "metadata": {
    "execution": {
     "iopub.execute_input": "2024-09-14T19:45:39.475230Z",
     "iopub.status.busy": "2024-09-14T19:45:39.474729Z",
     "iopub.status.idle": "2024-09-14T19:45:42.454174Z",
     "shell.execute_reply": "2024-09-14T19:45:42.452948Z"
    },
    "papermill": {
     "duration": 2.996716,
     "end_time": "2024-09-14T19:45:42.457148",
     "exception": false,
     "start_time": "2024-09-14T19:45:39.460432",
     "status": "completed"
    },
    "tags": []
   },
   "outputs": [],
   "source": [
    "# Importing Libraries\n",
    "\n",
    "import numpy as np\n",
    "import pandas as pd\n",
    "import seaborn as sns\n",
    "import matplotlib.pyplot as plt\n",
    "from sklearn.model_selection import train_test_split\n",
    "from sklearn.preprocessing import RobustScaler, OneHotEncoder\n",
    "from sklearn.ensemble import RandomForestClassifier, GradientBoostingClassifier\n",
    "from sklearn.linear_model import LogisticRegression\n",
    "from sklearn.tree import DecisionTreeClassifier\n",
    "from sklearn.neighbors import KNeighborsClassifier\n",
    "from sklearn.svm import SVC\n",
    "from sklearn.metrics import accuracy_score, classification_report, confusion_matrix, roc_auc_score, roc_curve\n",
    "from sklearn.impute import SimpleImputer\n",
    "from sklearn.compose import ColumnTransformer\n",
    "from sklearn.pipeline import Pipeline\n",
    "from joblib import dump, load"
   ]
  },
  {
   "cell_type": "markdown",
   "id": "cd8d41ec",
   "metadata": {
    "papermill": {
     "duration": 0.012634,
     "end_time": "2024-09-14T19:45:42.483207",
     "exception": false,
     "start_time": "2024-09-14T19:45:42.470573",
     "status": "completed"
    },
    "tags": []
   },
   "source": [
    "### Loading the Dataset"
   ]
  },
  {
   "cell_type": "code",
   "execution_count": 2,
   "id": "b08edd65",
   "metadata": {
    "execution": {
     "iopub.execute_input": "2024-09-14T19:45:42.510764Z",
     "iopub.status.busy": "2024-09-14T19:45:42.510175Z",
     "iopub.status.idle": "2024-09-14T19:45:42.541587Z",
     "shell.execute_reply": "2024-09-14T19:45:42.540377Z"
    },
    "papermill": {
     "duration": 0.048424,
     "end_time": "2024-09-14T19:45:42.544464",
     "exception": false,
     "start_time": "2024-09-14T19:45:42.496040",
     "status": "completed"
    },
    "tags": []
   },
   "outputs": [],
   "source": [
    "train = pd.read_csv('/kaggle/input/titanic/train.csv')\n",
    "test = pd.read_csv('/kaggle/input/titanic/test.csv')"
   ]
  },
  {
   "cell_type": "markdown",
   "id": "ffde7021",
   "metadata": {
    "papermill": {
     "duration": 0.012819,
     "end_time": "2024-09-14T19:45:42.570221",
     "exception": false,
     "start_time": "2024-09-14T19:45:42.557402",
     "status": "completed"
    },
    "tags": []
   },
   "source": [
    "### Initial Data Inspection"
   ]
  },
  {
   "cell_type": "code",
   "execution_count": 3,
   "id": "47d81334",
   "metadata": {
    "execution": {
     "iopub.execute_input": "2024-09-14T19:45:42.598180Z",
     "iopub.status.busy": "2024-09-14T19:45:42.597654Z",
     "iopub.status.idle": "2024-09-14T19:45:42.630371Z",
     "shell.execute_reply": "2024-09-14T19:45:42.629327Z"
    },
    "papermill": {
     "duration": 0.049941,
     "end_time": "2024-09-14T19:45:42.633031",
     "exception": false,
     "start_time": "2024-09-14T19:45:42.583090",
     "status": "completed"
    },
    "tags": []
   },
   "outputs": [
    {
     "data": {
      "text/html": [
       "<div>\n",
       "<style scoped>\n",
       "    .dataframe tbody tr th:only-of-type {\n",
       "        vertical-align: middle;\n",
       "    }\n",
       "\n",
       "    .dataframe tbody tr th {\n",
       "        vertical-align: top;\n",
       "    }\n",
       "\n",
       "    .dataframe thead th {\n",
       "        text-align: right;\n",
       "    }\n",
       "</style>\n",
       "<table border=\"1\" class=\"dataframe\">\n",
       "  <thead>\n",
       "    <tr style=\"text-align: right;\">\n",
       "      <th></th>\n",
       "      <th>PassengerId</th>\n",
       "      <th>Survived</th>\n",
       "      <th>Pclass</th>\n",
       "      <th>Name</th>\n",
       "      <th>Sex</th>\n",
       "      <th>Age</th>\n",
       "      <th>SibSp</th>\n",
       "      <th>Parch</th>\n",
       "      <th>Ticket</th>\n",
       "      <th>Fare</th>\n",
       "      <th>Cabin</th>\n",
       "      <th>Embarked</th>\n",
       "    </tr>\n",
       "  </thead>\n",
       "  <tbody>\n",
       "    <tr>\n",
       "      <th>0</th>\n",
       "      <td>1</td>\n",
       "      <td>0</td>\n",
       "      <td>3</td>\n",
       "      <td>Braund, Mr. Owen Harris</td>\n",
       "      <td>male</td>\n",
       "      <td>22.0</td>\n",
       "      <td>1</td>\n",
       "      <td>0</td>\n",
       "      <td>A/5 21171</td>\n",
       "      <td>7.2500</td>\n",
       "      <td>NaN</td>\n",
       "      <td>S</td>\n",
       "    </tr>\n",
       "    <tr>\n",
       "      <th>1</th>\n",
       "      <td>2</td>\n",
       "      <td>1</td>\n",
       "      <td>1</td>\n",
       "      <td>Cumings, Mrs. John Bradley (Florence Briggs Th...</td>\n",
       "      <td>female</td>\n",
       "      <td>38.0</td>\n",
       "      <td>1</td>\n",
       "      <td>0</td>\n",
       "      <td>PC 17599</td>\n",
       "      <td>71.2833</td>\n",
       "      <td>C85</td>\n",
       "      <td>C</td>\n",
       "    </tr>\n",
       "    <tr>\n",
       "      <th>2</th>\n",
       "      <td>3</td>\n",
       "      <td>1</td>\n",
       "      <td>3</td>\n",
       "      <td>Heikkinen, Miss. Laina</td>\n",
       "      <td>female</td>\n",
       "      <td>26.0</td>\n",
       "      <td>0</td>\n",
       "      <td>0</td>\n",
       "      <td>STON/O2. 3101282</td>\n",
       "      <td>7.9250</td>\n",
       "      <td>NaN</td>\n",
       "      <td>S</td>\n",
       "    </tr>\n",
       "    <tr>\n",
       "      <th>3</th>\n",
       "      <td>4</td>\n",
       "      <td>1</td>\n",
       "      <td>1</td>\n",
       "      <td>Futrelle, Mrs. Jacques Heath (Lily May Peel)</td>\n",
       "      <td>female</td>\n",
       "      <td>35.0</td>\n",
       "      <td>1</td>\n",
       "      <td>0</td>\n",
       "      <td>113803</td>\n",
       "      <td>53.1000</td>\n",
       "      <td>C123</td>\n",
       "      <td>S</td>\n",
       "    </tr>\n",
       "    <tr>\n",
       "      <th>4</th>\n",
       "      <td>5</td>\n",
       "      <td>0</td>\n",
       "      <td>3</td>\n",
       "      <td>Allen, Mr. William Henry</td>\n",
       "      <td>male</td>\n",
       "      <td>35.0</td>\n",
       "      <td>0</td>\n",
       "      <td>0</td>\n",
       "      <td>373450</td>\n",
       "      <td>8.0500</td>\n",
       "      <td>NaN</td>\n",
       "      <td>S</td>\n",
       "    </tr>\n",
       "  </tbody>\n",
       "</table>\n",
       "</div>"
      ],
      "text/plain": [
       "   PassengerId  Survived  Pclass  \\\n",
       "0            1         0       3   \n",
       "1            2         1       1   \n",
       "2            3         1       3   \n",
       "3            4         1       1   \n",
       "4            5         0       3   \n",
       "\n",
       "                                                Name     Sex   Age  SibSp  \\\n",
       "0                            Braund, Mr. Owen Harris    male  22.0      1   \n",
       "1  Cumings, Mrs. John Bradley (Florence Briggs Th...  female  38.0      1   \n",
       "2                             Heikkinen, Miss. Laina  female  26.0      0   \n",
       "3       Futrelle, Mrs. Jacques Heath (Lily May Peel)  female  35.0      1   \n",
       "4                           Allen, Mr. William Henry    male  35.0      0   \n",
       "\n",
       "   Parch            Ticket     Fare Cabin Embarked  \n",
       "0      0         A/5 21171   7.2500   NaN        S  \n",
       "1      0          PC 17599  71.2833   C85        C  \n",
       "2      0  STON/O2. 3101282   7.9250   NaN        S  \n",
       "3      0            113803  53.1000  C123        S  \n",
       "4      0            373450   8.0500   NaN        S  "
      ]
     },
     "execution_count": 3,
     "metadata": {},
     "output_type": "execute_result"
    }
   ],
   "source": [
    "# Display the first few rows of the dataset\n",
    "train.head()"
   ]
  },
  {
   "cell_type": "code",
   "execution_count": 4,
   "id": "28dcbfa7",
   "metadata": {
    "execution": {
     "iopub.execute_input": "2024-09-14T19:45:42.661376Z",
     "iopub.status.busy": "2024-09-14T19:45:42.660910Z",
     "iopub.status.idle": "2024-09-14T19:45:42.697458Z",
     "shell.execute_reply": "2024-09-14T19:45:42.696074Z"
    },
    "papermill": {
     "duration": 0.054226,
     "end_time": "2024-09-14T19:45:42.700345",
     "exception": false,
     "start_time": "2024-09-14T19:45:42.646119",
     "status": "completed"
    },
    "tags": []
   },
   "outputs": [
    {
     "data": {
      "text/html": [
       "<div>\n",
       "<style scoped>\n",
       "    .dataframe tbody tr th:only-of-type {\n",
       "        vertical-align: middle;\n",
       "    }\n",
       "\n",
       "    .dataframe tbody tr th {\n",
       "        vertical-align: top;\n",
       "    }\n",
       "\n",
       "    .dataframe thead th {\n",
       "        text-align: right;\n",
       "    }\n",
       "</style>\n",
       "<table border=\"1\" class=\"dataframe\">\n",
       "  <thead>\n",
       "    <tr style=\"text-align: right;\">\n",
       "      <th></th>\n",
       "      <th>PassengerId</th>\n",
       "      <th>Survived</th>\n",
       "      <th>Pclass</th>\n",
       "      <th>Age</th>\n",
       "      <th>SibSp</th>\n",
       "      <th>Parch</th>\n",
       "      <th>Fare</th>\n",
       "    </tr>\n",
       "  </thead>\n",
       "  <tbody>\n",
       "    <tr>\n",
       "      <th>count</th>\n",
       "      <td>891.000000</td>\n",
       "      <td>891.000000</td>\n",
       "      <td>891.000000</td>\n",
       "      <td>714.000000</td>\n",
       "      <td>891.000000</td>\n",
       "      <td>891.000000</td>\n",
       "      <td>891.000000</td>\n",
       "    </tr>\n",
       "    <tr>\n",
       "      <th>mean</th>\n",
       "      <td>446.000000</td>\n",
       "      <td>0.383838</td>\n",
       "      <td>2.308642</td>\n",
       "      <td>29.699118</td>\n",
       "      <td>0.523008</td>\n",
       "      <td>0.381594</td>\n",
       "      <td>32.204208</td>\n",
       "    </tr>\n",
       "    <tr>\n",
       "      <th>std</th>\n",
       "      <td>257.353842</td>\n",
       "      <td>0.486592</td>\n",
       "      <td>0.836071</td>\n",
       "      <td>14.526497</td>\n",
       "      <td>1.102743</td>\n",
       "      <td>0.806057</td>\n",
       "      <td>49.693429</td>\n",
       "    </tr>\n",
       "    <tr>\n",
       "      <th>min</th>\n",
       "      <td>1.000000</td>\n",
       "      <td>0.000000</td>\n",
       "      <td>1.000000</td>\n",
       "      <td>0.420000</td>\n",
       "      <td>0.000000</td>\n",
       "      <td>0.000000</td>\n",
       "      <td>0.000000</td>\n",
       "    </tr>\n",
       "    <tr>\n",
       "      <th>25%</th>\n",
       "      <td>223.500000</td>\n",
       "      <td>0.000000</td>\n",
       "      <td>2.000000</td>\n",
       "      <td>20.125000</td>\n",
       "      <td>0.000000</td>\n",
       "      <td>0.000000</td>\n",
       "      <td>7.910400</td>\n",
       "    </tr>\n",
       "    <tr>\n",
       "      <th>50%</th>\n",
       "      <td>446.000000</td>\n",
       "      <td>0.000000</td>\n",
       "      <td>3.000000</td>\n",
       "      <td>28.000000</td>\n",
       "      <td>0.000000</td>\n",
       "      <td>0.000000</td>\n",
       "      <td>14.454200</td>\n",
       "    </tr>\n",
       "    <tr>\n",
       "      <th>75%</th>\n",
       "      <td>668.500000</td>\n",
       "      <td>1.000000</td>\n",
       "      <td>3.000000</td>\n",
       "      <td>38.000000</td>\n",
       "      <td>1.000000</td>\n",
       "      <td>0.000000</td>\n",
       "      <td>31.000000</td>\n",
       "    </tr>\n",
       "    <tr>\n",
       "      <th>max</th>\n",
       "      <td>891.000000</td>\n",
       "      <td>1.000000</td>\n",
       "      <td>3.000000</td>\n",
       "      <td>80.000000</td>\n",
       "      <td>8.000000</td>\n",
       "      <td>6.000000</td>\n",
       "      <td>512.329200</td>\n",
       "    </tr>\n",
       "  </tbody>\n",
       "</table>\n",
       "</div>"
      ],
      "text/plain": [
       "       PassengerId    Survived      Pclass         Age       SibSp  \\\n",
       "count   891.000000  891.000000  891.000000  714.000000  891.000000   \n",
       "mean    446.000000    0.383838    2.308642   29.699118    0.523008   \n",
       "std     257.353842    0.486592    0.836071   14.526497    1.102743   \n",
       "min       1.000000    0.000000    1.000000    0.420000    0.000000   \n",
       "25%     223.500000    0.000000    2.000000   20.125000    0.000000   \n",
       "50%     446.000000    0.000000    3.000000   28.000000    0.000000   \n",
       "75%     668.500000    1.000000    3.000000   38.000000    1.000000   \n",
       "max     891.000000    1.000000    3.000000   80.000000    8.000000   \n",
       "\n",
       "            Parch        Fare  \n",
       "count  891.000000  891.000000  \n",
       "mean     0.381594   32.204208  \n",
       "std      0.806057   49.693429  \n",
       "min      0.000000    0.000000  \n",
       "25%      0.000000    7.910400  \n",
       "50%      0.000000   14.454200  \n",
       "75%      0.000000   31.000000  \n",
       "max      6.000000  512.329200  "
      ]
     },
     "execution_count": 4,
     "metadata": {},
     "output_type": "execute_result"
    }
   ],
   "source": [
    "# Display Summary Statistics\n",
    "train.describe()"
   ]
  },
  {
   "cell_type": "code",
   "execution_count": 5,
   "id": "c7419736",
   "metadata": {
    "execution": {
     "iopub.execute_input": "2024-09-14T19:45:42.729662Z",
     "iopub.status.busy": "2024-09-14T19:45:42.729245Z",
     "iopub.status.idle": "2024-09-14T19:45:42.755751Z",
     "shell.execute_reply": "2024-09-14T19:45:42.753924Z"
    },
    "papermill": {
     "duration": 0.04445,
     "end_time": "2024-09-14T19:45:42.758386",
     "exception": false,
     "start_time": "2024-09-14T19:45:42.713936",
     "status": "completed"
    },
    "tags": []
   },
   "outputs": [
    {
     "name": "stdout",
     "output_type": "stream",
     "text": [
      "<class 'pandas.core.frame.DataFrame'>\n",
      "RangeIndex: 891 entries, 0 to 890\n",
      "Data columns (total 12 columns):\n",
      " #   Column       Non-Null Count  Dtype  \n",
      "---  ------       --------------  -----  \n",
      " 0   PassengerId  891 non-null    int64  \n",
      " 1   Survived     891 non-null    int64  \n",
      " 2   Pclass       891 non-null    int64  \n",
      " 3   Name         891 non-null    object \n",
      " 4   Sex          891 non-null    object \n",
      " 5   Age          714 non-null    float64\n",
      " 6   SibSp        891 non-null    int64  \n",
      " 7   Parch        891 non-null    int64  \n",
      " 8   Ticket       891 non-null    object \n",
      " 9   Fare         891 non-null    float64\n",
      " 10  Cabin        204 non-null    object \n",
      " 11  Embarked     889 non-null    object \n",
      "dtypes: float64(2), int64(5), object(5)\n",
      "memory usage: 83.7+ KB\n"
     ]
    }
   ],
   "source": [
    "# Display the information about data types and missing values\n",
    "train.info()"
   ]
  },
  {
   "cell_type": "code",
   "execution_count": 6,
   "id": "5c29df29",
   "metadata": {
    "execution": {
     "iopub.execute_input": "2024-09-14T19:45:42.787528Z",
     "iopub.status.busy": "2024-09-14T19:45:42.787097Z",
     "iopub.status.idle": "2024-09-14T19:45:42.797686Z",
     "shell.execute_reply": "2024-09-14T19:45:42.796399Z"
    },
    "papermill": {
     "duration": 0.028271,
     "end_time": "2024-09-14T19:45:42.800289",
     "exception": false,
     "start_time": "2024-09-14T19:45:42.772018",
     "status": "completed"
    },
    "tags": []
   },
   "outputs": [
    {
     "data": {
      "text/plain": [
       "PassengerId      0\n",
       "Survived         0\n",
       "Pclass           0\n",
       "Name             0\n",
       "Sex              0\n",
       "Age            177\n",
       "SibSp            0\n",
       "Parch            0\n",
       "Ticket           0\n",
       "Fare             0\n",
       "Cabin          687\n",
       "Embarked         2\n",
       "dtype: int64"
      ]
     },
     "execution_count": 6,
     "metadata": {},
     "output_type": "execute_result"
    }
   ],
   "source": [
    "# Display the number of null values in the data\n",
    "train.isnull().sum()"
   ]
  },
  {
   "cell_type": "code",
   "execution_count": 7,
   "id": "7713aaf6",
   "metadata": {
    "execution": {
     "iopub.execute_input": "2024-09-14T19:45:42.830202Z",
     "iopub.status.busy": "2024-09-14T19:45:42.829735Z",
     "iopub.status.idle": "2024-09-14T19:45:42.841754Z",
     "shell.execute_reply": "2024-09-14T19:45:42.840412Z"
    },
    "papermill": {
     "duration": 0.030162,
     "end_time": "2024-09-14T19:45:42.844377",
     "exception": false,
     "start_time": "2024-09-14T19:45:42.814215",
     "status": "completed"
    },
    "tags": []
   },
   "outputs": [
    {
     "data": {
      "text/plain": [
       "PassengerId     0.000000\n",
       "Survived        0.000000\n",
       "Pclass          0.000000\n",
       "Name            0.000000\n",
       "Sex             0.000000\n",
       "Age            19.865320\n",
       "SibSp           0.000000\n",
       "Parch           0.000000\n",
       "Ticket          0.000000\n",
       "Fare            0.000000\n",
       "Cabin          77.104377\n",
       "Embarked        0.224467\n",
       "dtype: float64"
      ]
     },
     "execution_count": 7,
     "metadata": {},
     "output_type": "execute_result"
    }
   ],
   "source": [
    "# Display the % of null values in the data\n",
    "train.isnull().mean() * 100"
   ]
  },
  {
   "cell_type": "code",
   "execution_count": 8,
   "id": "fcd03a8d",
   "metadata": {
    "execution": {
     "iopub.execute_input": "2024-09-14T19:45:42.874200Z",
     "iopub.status.busy": "2024-09-14T19:45:42.873721Z",
     "iopub.status.idle": "2024-09-14T19:45:42.884743Z",
     "shell.execute_reply": "2024-09-14T19:45:42.883570Z"
    },
    "papermill": {
     "duration": 0.029322,
     "end_time": "2024-09-14T19:45:42.887654",
     "exception": false,
     "start_time": "2024-09-14T19:45:42.858332",
     "status": "completed"
    },
    "tags": []
   },
   "outputs": [
    {
     "data": {
      "text/plain": [
       "0"
      ]
     },
     "execution_count": 8,
     "metadata": {},
     "output_type": "execute_result"
    }
   ],
   "source": [
    "# Display the number of duplicate values\n",
    "train.duplicated().sum()"
   ]
  },
  {
   "cell_type": "markdown",
   "id": "a94fa3c9",
   "metadata": {
    "papermill": {
     "duration": 0.013708,
     "end_time": "2024-09-14T19:45:42.915423",
     "exception": false,
     "start_time": "2024-09-14T19:45:42.901715",
     "status": "completed"
    },
    "tags": []
   },
   "source": [
    "### Exploratory Data Analysis (EDA)"
   ]
  },
  {
   "cell_type": "markdown",
   "id": "efcfbb17",
   "metadata": {
    "papermill": {
     "duration": 0.013759,
     "end_time": "2024-09-14T19:45:42.943178",
     "exception": false,
     "start_time": "2024-09-14T19:45:42.929419",
     "status": "completed"
    },
    "tags": []
   },
   "source": [
    "#### Univariate Analysis"
   ]
  },
  {
   "cell_type": "code",
   "execution_count": 9,
   "id": "131dde55",
   "metadata": {
    "execution": {
     "iopub.execute_input": "2024-09-14T19:45:42.975408Z",
     "iopub.status.busy": "2024-09-14T19:45:42.974728Z",
     "iopub.status.idle": "2024-09-14T19:45:43.266011Z",
     "shell.execute_reply": "2024-09-14T19:45:43.264616Z"
    },
    "papermill": {
     "duration": 0.311801,
     "end_time": "2024-09-14T19:45:43.269029",
     "exception": false,
     "start_time": "2024-09-14T19:45:42.957228",
     "status": "completed"
    },
    "tags": []
   },
   "outputs": [
    {
     "data": {
      "image/png": "[encoded data removed]",
      "text/plain": [
       "<Figure size 800x500 with 1 Axes>"
      ]
     },
     "metadata": {},
     "output_type": "display_data"
    }
   ],
   "source": [
    "# Plot the distribution of the target variable 'Survived'\n",
    "plt.figure(figsize=(8,5))\n",
    "sns.countplot(x='Survived', data=train)\n",
    "plt.title('Distribution of Survival')\n",
    "plt.xlabel('Survived')\n",
    "plt.ylabel('Count')\n",
    "plt.show()"
   ]
  },
  {
   "cell_type": "code",
   "execution_count": 10,
   "id": "b14ffd87",
   "metadata": {
    "execution": {
     "iopub.execute_input": "2024-09-14T19:45:43.300361Z",
     "iopub.status.busy": "2024-09-14T19:45:43.299923Z",
     "iopub.status.idle": "2024-09-14T19:45:43.618070Z",
     "shell.execute_reply": "2024-09-14T19:45:43.616723Z"
    },
    "papermill": {
     "duration": 0.337202,
     "end_time": "2024-09-14T19:45:43.620912",
     "exception": false,
     "start_time": "2024-09-14T19:45:43.283710",
     "status": "completed"
    },
    "tags": []
   },
   "outputs": [
    {
     "name": "stderr",
     "output_type": "stream",
     "text": [
      "/opt/conda/lib/python3.10/site-packages/seaborn/_oldcore.py:1119: FutureWarning: use_inf_as_na option is deprecated and will be removed in a future version. Convert inf values to NaN before operating instead.\n",
      "  with pd.option_context('mode.use_inf_as_na', True):\n"
     ]
    },
    {
     "data": {
      "image/png": "[encoded data removed]",
      "text/plain": [
       "<Figure size 800x500 with 1 Axes>"
      ]
     },
     "metadata": {},
     "output_type": "display_data"
    }
   ],
   "source": [
    "# Plot the distribution of'Age'\n",
    "plt.figure(figsize=(8,5))\n",
    "sns.kdeplot(x='Age', data=train)\n",
    "plt.title('Distribution of Age')\n",
    "plt.xlabel('Age')\n",
    "plt.ylabel('Count')\n",
    "plt.show()"
   ]
  },
  {
   "cell_type": "code",
   "execution_count": 11,
   "id": "77cecded",
   "metadata": {
    "execution": {
     "iopub.execute_input": "2024-09-14T19:45:43.653834Z",
     "iopub.status.busy": "2024-09-14T19:45:43.653372Z",
     "iopub.status.idle": "2024-09-14T19:45:44.037962Z",
     "shell.execute_reply": "2024-09-14T19:45:44.036680Z"
    },
    "papermill": {
     "duration": 0.404319,
     "end_time": "2024-09-14T19:45:44.040833",
     "exception": false,
     "start_time": "2024-09-14T19:45:43.636514",
     "status": "completed"
    },
    "tags": []
   },
   "outputs": [
    {
     "name": "stderr",
     "output_type": "stream",
     "text": [
      "/opt/conda/lib/python3.10/site-packages/seaborn/_oldcore.py:1119: FutureWarning: use_inf_as_na option is deprecated and will be removed in a future version. Convert inf values to NaN before operating instead.\n",
      "  with pd.option_context('mode.use_inf_as_na', True):\n"
     ]
    },
    {
     "data": {
      "image/png": "[encoded data removed]",
      "text/plain": [
       "<Figure size 800x500 with 1 Axes>"
      ]
     },
     "metadata": {},
     "output_type": "display_data"
    }
   ],
   "source": [
    "# Plot the distribution of'Fare'\n",
    "plt.figure(figsize=(8,5))\n",
    "sns.kdeplot(x='Fare', data=train)\n",
    "plt.title('Distribution of Fare')\n",
    "plt.xlabel('Fare')\n",
    "plt.ylabel('Count')\n",
    "plt.show()"
   ]
  },
  {
   "cell_type": "code",
   "execution_count": 12,
   "id": "d62557bb",
   "metadata": {
    "execution": {
     "iopub.execute_input": "2024-09-14T19:45:44.076742Z",
     "iopub.status.busy": "2024-09-14T19:45:44.076268Z",
     "iopub.status.idle": "2024-09-14T19:45:44.085103Z",
     "shell.execute_reply": "2024-09-14T19:45:44.083626Z"
    },
    "papermill": {
     "duration": 0.030859,
     "end_time": "2024-09-14T19:45:44.087809",
     "exception": false,
     "start_time": "2024-09-14T19:45:44.056950",
     "status": "completed"
    },
    "tags": []
   },
   "outputs": [],
   "source": [
    "# Create FamilySize feature including the passenger themselves\n",
    "train['FamilySize'] = train['SibSp'] + train['Parch'] + 1\n",
    "test['FamilySize'] = test['SibSp'] + test['Parch'] + 1"
   ]
  },
  {
   "cell_type": "code",
   "execution_count": 13,
   "id": "bdc88d60",
   "metadata": {
    "execution": {
     "iopub.execute_input": "2024-09-14T19:45:44.122132Z",
     "iopub.status.busy": "2024-09-14T19:45:44.121682Z",
     "iopub.status.idle": "2024-09-14T19:45:44.434851Z",
     "shell.execute_reply": "2024-09-14T19:45:44.433627Z"
    },
    "papermill": {
     "duration": 0.334399,
     "end_time": "2024-09-14T19:45:44.438123",
     "exception": false,
     "start_time": "2024-09-14T19:45:44.103724",
     "status": "completed"
    },
    "tags": []
   },
   "outputs": [
    {
     "name": "stderr",
     "output_type": "stream",
     "text": [
      "/opt/conda/lib/python3.10/site-packages/seaborn/_oldcore.py:1119: FutureWarning: use_inf_as_na option is deprecated and will be removed in a future version. Convert inf values to NaN before operating instead.\n",
      "  with pd.option_context('mode.use_inf_as_na', True):\n"
     ]
    },
    {
     "data": {
      "image/png": "[encoded data removed]",
      "text/plain": [
       "<Figure size 800x500 with 1 Axes>"
      ]
     },
     "metadata": {},
     "output_type": "display_data"
    }
   ],
   "source": [
    "# Plot the distribution of'FamilySize'\n",
    "plt.figure(figsize=(8,5))\n",
    "sns.kdeplot(x='FamilySize', data=train)\n",
    "plt.title('Distribution of FamilySize')\n",
    "plt.xlabel('FamilySize')\n",
    "plt.ylabel('Count')\n",
    "plt.show()"
   ]
  },
  {
   "cell_type": "markdown",
   "id": "094a23c1",
   "metadata": {
    "papermill": {
     "duration": 0.017405,
     "end_time": "2024-09-14T19:45:44.473118",
     "exception": false,
     "start_time": "2024-09-14T19:45:44.455713",
     "status": "completed"
    },
    "tags": []
   },
   "source": [
    "#### Bivariate Analysis"
   ]
  },
  {
   "cell_type": "code",
   "execution_count": 14,
   "id": "7393fb5a",
   "metadata": {
    "execution": {
     "iopub.execute_input": "2024-09-14T19:45:44.508665Z",
     "iopub.status.busy": "2024-09-14T19:45:44.508217Z",
     "iopub.status.idle": "2024-09-14T19:45:44.855138Z",
     "shell.execute_reply": "2024-09-14T19:45:44.853913Z"
    },
    "papermill": {
     "duration": 0.367808,
     "end_time": "2024-09-14T19:45:44.857964",
     "exception": false,
     "start_time": "2024-09-14T19:45:44.490156",
     "status": "completed"
    },
    "tags": []
   },
   "outputs": [
    {
     "data": {
      "image/png": "[encoded data removed]",
      "text/plain": [
       "<Figure size 800x500 with 1 Axes>"
      ]
     },
     "metadata": {},
     "output_type": "display_data"
    }
   ],
   "source": [
    "# Survival by Gender\n",
    "plt.figure(figsize=(8,5))\n",
    "sns.barplot(x='Sex', y='Survived', data=train)\n",
    "plt.title('Survival Rate by Gender')\n",
    "plt.xlabel('Gender')\n",
    "plt.ylabel('Survival Rate')\n",
    "plt.show()"
   ]
  },
  {
   "cell_type": "code",
   "execution_count": 15,
   "id": "6d910085",
   "metadata": {
    "execution": {
     "iopub.execute_input": "2024-09-14T19:45:44.895200Z",
     "iopub.status.busy": "2024-09-14T19:45:44.893751Z",
     "iopub.status.idle": "2024-09-14T19:45:45.265439Z",
     "shell.execute_reply": "2024-09-14T19:45:45.264183Z"
    },
    "papermill": {
     "duration": 0.393188,
     "end_time": "2024-09-14T19:45:45.268154",
     "exception": false,
     "start_time": "2024-09-14T19:45:44.874966",
     "status": "completed"
    },
    "tags": []
   },
   "outputs": [
    {
     "name": "stderr",
     "output_type": "stream",
     "text": [
      "/opt/conda/lib/python3.10/site-packages/seaborn/_oldcore.py:1119: FutureWarning: use_inf_as_na option is deprecated and will be removed in a future version. Convert inf values to NaN before operating instead.\n",
      "  with pd.option_context('mode.use_inf_as_na', True):\n",
      "/opt/conda/lib/python3.10/site-packages/seaborn/_oldcore.py:1075: FutureWarning: When grouping with a length-1 list-like, you will need to pass a length-1 tuple to get_group in a future version of pandas. Pass `(name,)` instead of `name` to silence this warning.\n",
      "  data_subset = grouped_data.get_group(pd_key)\n",
      "/opt/conda/lib/python3.10/site-packages/seaborn/_oldcore.py:1075: FutureWarning: When grouping with a length-1 list-like, you will need to pass a length-1 tuple to get_group in a future version of pandas. Pass `(name,)` instead of `name` to silence this warning.\n",
      "  data_subset = grouped_data.get_group(pd_key)\n"
     ]
    },
    {
     "data": {
      "image/png": "[encoded data removed]",
      "text/plain": [
       "<Figure size 800x500 with 1 Axes>"
      ]
     },
     "metadata": {},
     "output_type": "display_data"
    }
   ],
   "source": [
    "# Survival by Age\n",
    "plt.figure(figsize=(8,5))\n",
    "sns.kdeplot(x='Age', hue='Survived', data=train, multiple='stack')\n",
    "plt.title('Survival by Age')\n",
    "plt.xlabel('Age')\n",
    "plt.ylabel('Count')\n",
    "plt.show()"
   ]
  },
  {
   "cell_type": "code",
   "execution_count": 16,
   "id": "be4e4d4a",
   "metadata": {
    "execution": {
     "iopub.execute_input": "2024-09-14T19:45:45.307022Z",
     "iopub.status.busy": "2024-09-14T19:45:45.305910Z",
     "iopub.status.idle": "2024-09-14T19:45:45.722549Z",
     "shell.execute_reply": "2024-09-14T19:45:45.721266Z"
    },
    "papermill": {
     "duration": 0.438568,
     "end_time": "2024-09-14T19:45:45.725211",
     "exception": false,
     "start_time": "2024-09-14T19:45:45.286643",
     "status": "completed"
    },
    "tags": []
   },
   "outputs": [
    {
     "data": {
      "image/png": "[encoded data removed]",
      "text/plain": [
       "<Figure size 800x500 with 1 Axes>"
      ]
     },
     "metadata": {},
     "output_type": "display_data"
    }
   ],
   "source": [
    "# Survival by Passenge Class\n",
    "plt.figure(figsize=(8,5))\n",
    "sns.barplot(x='Pclass', y='Survived', data=train)\n",
    "plt.title('Survival Rate by Passenger Class')\n",
    "plt.xlabel('Passenger Class')\n",
    "plt.ylabel('Survival Rate')\n",
    "plt.show()"
   ]
  },
  {
   "cell_type": "code",
   "execution_count": 17,
   "id": "53981baf",
   "metadata": {
    "execution": {
     "iopub.execute_input": "2024-09-14T19:45:45.763847Z",
     "iopub.status.busy": "2024-09-14T19:45:45.763369Z",
     "iopub.status.idle": "2024-09-14T19:45:46.159150Z",
     "shell.execute_reply": "2024-09-14T19:45:46.157816Z"
    },
    "papermill": {
     "duration": 0.418155,
     "end_time": "2024-09-14T19:45:46.161993",
     "exception": false,
     "start_time": "2024-09-14T19:45:45.743838",
     "status": "completed"
    },
    "tags": []
   },
   "outputs": [
    {
     "data": {
      "image/png": "[encoded data removed]",
      "text/plain": [
       "<Figure size 800x500 with 1 Axes>"
      ]
     },
     "metadata": {},
     "output_type": "display_data"
    }
   ],
   "source": [
    "# Survival by Embarked\n",
    "plt.figure(figsize=(8,5))\n",
    "sns.barplot(x='Embarked', y='Survived', data=train)\n",
    "plt.title('Survival Rate by Embarked')\n",
    "plt.xlabel('Embarked')\n",
    "plt.ylabel('Survival Rate')\n",
    "plt.show()"
   ]
  },
  {
   "cell_type": "markdown",
   "id": "31c9fc09",
   "metadata": {
    "papermill": {
     "duration": 0.022665,
     "end_time": "2024-09-14T19:45:46.209211",
     "exception": false,
     "start_time": "2024-09-14T19:45:46.186546",
     "status": "completed"
    },
    "tags": []
   },
   "source": [
    "#### Correaltion Heatmap"
   ]
  },
  {
   "cell_type": "code",
   "execution_count": 18,
   "id": "50b8b0a1",
   "metadata": {
    "execution": {
     "iopub.execute_input": "2024-09-14T19:45:46.251508Z",
     "iopub.status.busy": "2024-09-14T19:45:46.251041Z",
     "iopub.status.idle": "2024-09-14T19:45:46.834021Z",
     "shell.execute_reply": "2024-09-14T19:45:46.832760Z"
    },
    "papermill": {
     "duration": 0.608728,
     "end_time": "2024-09-14T19:45:46.836843",
     "exception": false,
     "start_time": "2024-09-14T19:45:46.228115",
     "status": "completed"
    },
    "tags": []
   },
   "outputs": [
    {
     "data": {
      "text/plain": [
       "<Axes: >"
      ]
     },
     "execution_count": 18,
     "metadata": {},
     "output_type": "execute_result"
    },
    {
     "data": {
      "image/png": "[encoded data removed]",
      "text/plain": [
       "<Figure size 1000x800 with 2 Axes>"
      ]
     },
     "metadata": {},
     "output_type": "display_data"
    }
   ],
   "source": [
    "# Correlation heatmap using seaborn\n",
    "plt.figure(figsize=(10,8))\n",
    "corr = train[['Age', 'Fare', 'FamilySize', 'Pclass', 'Survived']].corr()\n",
    "sns.heatmap(corr, annot= True, fmt='.2f')"
   ]
  },
  {
   "cell_type": "markdown",
   "id": "3fade303",
   "metadata": {
    "papermill": {
     "duration": 0.020045,
     "end_time": "2024-09-14T19:45:46.876751",
     "exception": false,
     "start_time": "2024-09-14T19:45:46.856706",
     "status": "completed"
    },
    "tags": []
   },
   "source": [
    "#### Feature Engineering Insights"
   ]
  },
  {
   "cell_type": "code",
   "execution_count": 19,
   "id": "6df877a7",
   "metadata": {
    "execution": {
     "iopub.execute_input": "2024-09-14T19:45:46.918914Z",
     "iopub.status.busy": "2024-09-14T19:45:46.918271Z",
     "iopub.status.idle": "2024-09-14T19:45:47.158139Z",
     "shell.execute_reply": "2024-09-14T19:45:47.156783Z"
    },
    "papermill": {
     "duration": 0.264073,
     "end_time": "2024-09-14T19:45:47.160722",
     "exception": false,
     "start_time": "2024-09-14T19:45:46.896649",
     "status": "completed"
    },
    "tags": []
   },
   "outputs": [
    {
     "name": "stdout",
     "output_type": "stream",
     "text": [
      "Missing Values by Feature: \n",
      "Cabin       687\n",
      "Age         177\n",
      "Embarked      2\n",
      "dtype: int64\n",
      "\n"
     ]
    },
    {
     "data": {
      "image/png": "[encoded data removed]",
      "text/plain": [
       "<Figure size 800x500 with 1 Axes>"
      ]
     },
     "metadata": {},
     "output_type": "display_data"
    }
   ],
   "source": [
    "# Missing values vizualization\n",
    "plt.figure(figsize=(8,5))\n",
    "missing_data = train.isnull().sum().sort_values(ascending=False)\n",
    "missing_data = missing_data[missing_data>0]\n",
    "print(f\"Missing Values by Feature: \\n{missing_data}\\n\")\n",
    "sns.barplot(x=missing_data.index, y=missing_data.values)\n",
    "plt.xlabel('Feature')\n",
    "plt.ylabel('Count of Missing Values')\n",
    "plt.title('Missing Values by Feature')\n",
    "plt.xticks(rotation=45)\n",
    "plt.show()"
   ]
  },
  {
   "cell_type": "markdown",
   "id": "58bcd8ad",
   "metadata": {
    "papermill": {
     "duration": 0.019849,
     "end_time": "2024-09-14T19:45:47.201293",
     "exception": false,
     "start_time": "2024-09-14T19:45:47.181444",
     "status": "completed"
    },
    "tags": []
   },
   "source": [
    "### Preprocessing the data"
   ]
  },
  {
   "cell_type": "code",
   "execution_count": 20,
   "id": "13e60ed4",
   "metadata": {
    "execution": {
     "iopub.execute_input": "2024-09-14T19:45:47.244201Z",
     "iopub.status.busy": "2024-09-14T19:45:47.242997Z",
     "iopub.status.idle": "2024-09-14T19:45:47.249283Z",
     "shell.execute_reply": "2024-09-14T19:45:47.247980Z"
    },
    "papermill": {
     "duration": 0.030682,
     "end_time": "2024-09-14T19:45:47.251901",
     "exception": false,
     "start_time": "2024-09-14T19:45:47.221219",
     "status": "completed"
    },
    "tags": []
   },
   "outputs": [],
   "source": [
    "# Define numeric and categorical features\n",
    "numeric_features = ['Age', 'Fare', 'SibSp', 'Parch', 'FamilySize']\n",
    "categorical_features = ['Sex', 'Embarked']"
   ]
  },
  {
   "cell_type": "code",
   "execution_count": 21,
   "id": "5740db8f",
   "metadata": {
    "execution": {
     "iopub.execute_input": "2024-09-14T19:45:47.294052Z",
     "iopub.status.busy": "2024-09-14T19:45:47.293589Z",
     "iopub.status.idle": "2024-09-14T19:45:47.300096Z",
     "shell.execute_reply": "2024-09-14T19:45:47.298729Z"
    },
    "papermill": {
     "duration": 0.03082,
     "end_time": "2024-09-14T19:45:47.302644",
     "exception": false,
     "start_time": "2024-09-14T19:45:47.271824",
     "status": "completed"
    },
    "tags": []
   },
   "outputs": [],
   "source": [
    "# Define Imputers\n",
    "# Define SimpleImputer and Robust Scaler for numeric features\n",
    "numeric_imputer = SimpleImputer(strategy='median')\n",
    "numeric_scaler = RobustScaler()\n",
    "\n",
    "# Define SimpleImputer and OneHotEncoder for categorical features\n",
    "categorical_imputer = SimpleImputer(strategy='most_frequent')\n",
    "categorical_encoder = OneHotEncoder(drop='first')"
   ]
  },
  {
   "cell_type": "code",
   "execution_count": 22,
   "id": "4b119e3a",
   "metadata": {
    "execution": {
     "iopub.execute_input": "2024-09-14T19:45:47.346220Z",
     "iopub.status.busy": "2024-09-14T19:45:47.344578Z",
     "iopub.status.idle": "2024-09-14T19:45:47.353603Z",
     "shell.execute_reply": "2024-09-14T19:45:47.352203Z"
    },
    "papermill": {
     "duration": 0.033791,
     "end_time": "2024-09-14T19:45:47.356744",
     "exception": false,
     "start_time": "2024-09-14T19:45:47.322953",
     "status": "completed"
    },
    "tags": []
   },
   "outputs": [],
   "source": [
    "# Define preprocessing using ColumnTransformer\n",
    "preprocessor = ColumnTransformer(\n",
    "    transformers=[\n",
    "        ('num', Pipeline(steps=[('imputer', numeric_imputer),\n",
    "                                ('scaler', numeric_scaler)]), numeric_features),\n",
    "        ('cat', Pipeline(steps=[('imputer', categorical_imputer),\n",
    "                                ('encoder', categorical_encoder)]), categorical_features)\n",
    "    ],\n",
    "    remainder='passthrough'\n",
    ")"
   ]
  },
  {
   "cell_type": "code",
   "execution_count": 23,
   "id": "cd38f6ae",
   "metadata": {
    "execution": {
     "iopub.execute_input": "2024-09-14T19:45:47.403678Z",
     "iopub.status.busy": "2024-09-14T19:45:47.403174Z",
     "iopub.status.idle": "2024-09-14T19:45:47.419638Z",
     "shell.execute_reply": "2024-09-14T19:45:47.418279Z"
    },
    "papermill": {
     "duration": 0.044573,
     "end_time": "2024-09-14T19:45:47.422501",
     "exception": false,
     "start_time": "2024-09-14T19:45:47.377928",
     "status": "completed"
    },
    "tags": []
   },
   "outputs": [],
   "source": [
    "# Drop Unnecessary Columns\n",
    "X = train.drop(['Survived', 'Cabin', 'PassengerId', 'Name', 'Ticket'], axis=1)\n",
    "test_data = test.drop(['Cabin', 'PassengerId', 'Name', 'Ticket'], axis=1)\n",
    "y = train['Survived']\n",
    "\n",
    "# Split the data into training and validation sets\n",
    "X_train, X_val, y_train, y_val = train_test_split(X, y, test_size=0.2, random_state=42)"
   ]
  },
  {
   "cell_type": "code",
   "execution_count": 24,
   "id": "4974304f",
   "metadata": {
    "execution": {
     "iopub.execute_input": "2024-09-14T19:45:47.467217Z",
     "iopub.status.busy": "2024-09-14T19:45:47.466729Z",
     "iopub.status.idle": "2024-09-14T19:45:47.484495Z",
     "shell.execute_reply": "2024-09-14T19:45:47.483166Z"
    },
    "papermill": {
     "duration": 0.044267,
     "end_time": "2024-09-14T19:45:47.487427",
     "exception": false,
     "start_time": "2024-09-14T19:45:47.443160",
     "status": "completed"
    },
    "tags": []
   },
   "outputs": [
    {
     "data": {
      "text/html": [
       "<div>\n",
       "<style scoped>\n",
       "    .dataframe tbody tr th:only-of-type {\n",
       "        vertical-align: middle;\n",
       "    }\n",
       "\n",
       "    .dataframe tbody tr th {\n",
       "        vertical-align: top;\n",
       "    }\n",
       "\n",
       "    .dataframe thead th {\n",
       "        text-align: right;\n",
       "    }\n",
       "</style>\n",
       "<table border=\"1\" class=\"dataframe\">\n",
       "  <thead>\n",
       "    <tr style=\"text-align: right;\">\n",
       "      <th></th>\n",
       "      <th>Pclass</th>\n",
       "      <th>Sex</th>\n",
       "      <th>Age</th>\n",
       "      <th>SibSp</th>\n",
       "      <th>Parch</th>\n",
       "      <th>Fare</th>\n",
       "      <th>Embarked</th>\n",
       "      <th>FamilySize</th>\n",
       "    </tr>\n",
       "  </thead>\n",
       "  <tbody>\n",
       "    <tr>\n",
       "      <th>331</th>\n",
       "      <td>1</td>\n",
       "      <td>male</td>\n",
       "      <td>45.5</td>\n",
       "      <td>0</td>\n",
       "      <td>0</td>\n",
       "      <td>28.5000</td>\n",
       "      <td>S</td>\n",
       "      <td>1</td>\n",
       "    </tr>\n",
       "    <tr>\n",
       "      <th>733</th>\n",
       "      <td>2</td>\n",
       "      <td>male</td>\n",
       "      <td>23.0</td>\n",
       "      <td>0</td>\n",
       "      <td>0</td>\n",
       "      <td>13.0000</td>\n",
       "      <td>S</td>\n",
       "      <td>1</td>\n",
       "    </tr>\n",
       "    <tr>\n",
       "      <th>382</th>\n",
       "      <td>3</td>\n",
       "      <td>male</td>\n",
       "      <td>32.0</td>\n",
       "      <td>0</td>\n",
       "      <td>0</td>\n",
       "      <td>7.9250</td>\n",
       "      <td>S</td>\n",
       "      <td>1</td>\n",
       "    </tr>\n",
       "    <tr>\n",
       "      <th>704</th>\n",
       "      <td>3</td>\n",
       "      <td>male</td>\n",
       "      <td>26.0</td>\n",
       "      <td>1</td>\n",
       "      <td>0</td>\n",
       "      <td>7.8542</td>\n",
       "      <td>S</td>\n",
       "      <td>2</td>\n",
       "    </tr>\n",
       "    <tr>\n",
       "      <th>813</th>\n",
       "      <td>3</td>\n",
       "      <td>female</td>\n",
       "      <td>6.0</td>\n",
       "      <td>4</td>\n",
       "      <td>2</td>\n",
       "      <td>31.2750</td>\n",
       "      <td>S</td>\n",
       "      <td>7</td>\n",
       "    </tr>\n",
       "  </tbody>\n",
       "</table>\n",
       "</div>"
      ],
      "text/plain": [
       "     Pclass     Sex   Age  SibSp  Parch     Fare Embarked  FamilySize\n",
       "331       1    male  45.5      0      0  28.5000        S           1\n",
       "733       2    male  23.0      0      0  13.0000        S           1\n",
       "382       3    male  32.0      0      0   7.9250        S           1\n",
       "704       3    male  26.0      1      0   7.8542        S           2\n",
       "813       3  female   6.0      4      2  31.2750        S           7"
      ]
     },
     "execution_count": 24,
     "metadata": {},
     "output_type": "execute_result"
    }
   ],
   "source": [
    "X_train.head()"
   ]
  },
  {
   "cell_type": "markdown",
   "id": "912e868b",
   "metadata": {
    "papermill": {
     "duration": 0.020668,
     "end_time": "2024-09-14T19:45:47.529131",
     "exception": false,
     "start_time": "2024-09-14T19:45:47.508463",
     "status": "completed"
    },
    "tags": []
   },
   "source": [
    "### Model Building and Evaluation"
   ]
  },
  {
   "cell_type": "code",
   "execution_count": 25,
   "id": "29dc603f",
   "metadata": {
    "execution": {
     "iopub.execute_input": "2024-09-14T19:45:47.573027Z",
     "iopub.status.busy": "2024-09-14T19:45:47.572559Z",
     "iopub.status.idle": "2024-09-14T19:45:47.580568Z",
     "shell.execute_reply": "2024-09-14T19:45:47.579096Z"
    },
    "papermill": {
     "duration": 0.033763,
     "end_time": "2024-09-14T19:45:47.583425",
     "exception": false,
     "start_time": "2024-09-14T19:45:47.549662",
     "status": "completed"
    },
    "tags": []
   },
   "outputs": [],
   "source": [
    "# Define classifiers and pipelines\n",
    "classifiers = {\n",
    "    'Logistic Regression': LogisticRegression(max_iter=1000),\n",
    "    'Random Forest': RandomForestClassifier(n_estimators=100, max_depth=5, random_state=42),\n",
    "    'Support Vector Machine': SVC(probability=True, random_state=42),\n",
    "    'K-Nearest Neighbors': KNeighborsClassifier(),\n",
    "    'Decision Tree': DecisionTreeClassifier(random_state=42),\n",
    "    'Gradient Boosting': GradientBoostingClassifier(n_estimators=100, random_state=42)\n",
    "}"
   ]
  },
  {
   "cell_type": "code",
   "execution_count": 26,
   "id": "cf2a4ea4",
   "metadata": {
    "execution": {
     "iopub.execute_input": "2024-09-14T19:45:47.627320Z",
     "iopub.status.busy": "2024-09-14T19:45:47.626843Z",
     "iopub.status.idle": "2024-09-14T19:45:48.404379Z",
     "shell.execute_reply": "2024-09-14T19:45:48.402839Z"
    },
    "papermill": {
     "duration": 0.802682,
     "end_time": "2024-09-14T19:45:48.407233",
     "exception": false,
     "start_time": "2024-09-14T19:45:47.604551",
     "status": "completed"
    },
    "tags": []
   },
   "outputs": [
    {
     "name": "stdout",
     "output_type": "stream",
     "text": [
      "Logistic Regression - Accuracy: 0.8101, ROC AUC: 0.8826\n",
      "Random Forest - Accuracy: 0.8045, ROC AUC: 0.8923\n",
      "Support Vector Machine - Accuracy: 0.8101, ROC AUC: 0.8286\n",
      "K-Nearest Neighbors - Accuracy: 0.8156, ROC AUC: 0.8588\n",
      "Decision Tree - Accuracy: 0.7933, ROC AUC: 0.8165\n",
      "Gradient Boosting - Accuracy: 0.8045, ROC AUC: 0.8879\n"
     ]
    }
   ],
   "source": [
    "# Train and evaluate models\n",
    "results = {}\n",
    "for name, clf in classifiers.items():\n",
    "    model_pipeline = Pipeline(steps=[\n",
    "        ('preprocessor', preprocessor),\n",
    "        ('classifier', clf)\n",
    "    ])\n",
    "    model_pipeline.fit(X_train, y_train)\n",
    "    y_pred = model_pipeline.predict(X_val)\n",
    "    \n",
    "    accuracy = accuracy_score(y_val, y_pred)\n",
    "    roc_auc = roc_auc_score(y_val, model_pipeline.predict_proba(X_val)[:,1])\n",
    "    results[name] = {\"Accuracy\": accuracy, \"ROC AUC\": roc_auc}\n",
    "    print(f\"{name} - Accuracy: {accuracy:.4f}, ROC AUC: {roc_auc:.4f}\")"
   ]
  },
  {
   "cell_type": "code",
   "execution_count": 27,
   "id": "ff78128f",
   "metadata": {
    "execution": {
     "iopub.execute_input": "2024-09-14T19:45:48.451407Z",
     "iopub.status.busy": "2024-09-14T19:45:48.450281Z",
     "iopub.status.idle": "2024-09-14T19:45:48.461060Z",
     "shell.execute_reply": "2024-09-14T19:45:48.459726Z"
    },
    "papermill": {
     "duration": 0.036682,
     "end_time": "2024-09-14T19:45:48.464601",
     "exception": false,
     "start_time": "2024-09-14T19:45:48.427919",
     "status": "completed"
    },
    "tags": []
   },
   "outputs": [
    {
     "name": "stdout",
     "output_type": "stream",
     "text": [
      "Model Performance Comaprison:\n",
      "                        Accuracy   ROC AUC\n",
      "Logistic Regression     0.810056  0.882625\n",
      "Random Forest           0.804469  0.892278\n",
      "Support Vector Machine  0.810056  0.828571\n",
      "K-Nearest Neighbors     0.815642  0.858816\n",
      "Decision Tree           0.793296  0.816538\n",
      "Gradient Boosting       0.804469  0.887902\n"
     ]
    }
   ],
   "source": [
    "# Display results and find best model\n",
    "results_df = pd.DataFrame(results).T\n",
    "print(\"Model Performance Comaprison:\")\n",
    "print(results_df)"
   ]
  },
  {
   "cell_type": "markdown",
   "id": "428a2d9a",
   "metadata": {
    "papermill": {
     "duration": 0.020614,
     "end_time": "2024-09-14T19:45:48.507048",
     "exception": false,
     "start_time": "2024-09-14T19:45:48.486434",
     "status": "completed"
    },
    "tags": []
   },
   "source": [
    "## Save and Load Model"
   ]
  },
  {
   "cell_type": "code",
   "execution_count": 28,
   "id": "3ce93456",
   "metadata": {
    "execution": {
     "iopub.execute_input": "2024-09-14T19:45:48.550282Z",
     "iopub.status.busy": "2024-09-14T19:45:48.549807Z",
     "iopub.status.idle": "2024-09-14T19:45:48.922295Z",
     "shell.execute_reply": "2024-09-14T19:45:48.921046Z"
    },
    "papermill": {
     "duration": 0.397443,
     "end_time": "2024-09-14T19:45:48.925155",
     "exception": false,
     "start_time": "2024-09-14T19:45:48.527712",
     "status": "completed"
    },
    "tags": []
   },
   "outputs": [
    {
     "data": {
      "text/plain": [
       "['best_model_pipeline.joblib']"
      ]
     },
     "execution_count": 28,
     "metadata": {},
     "output_type": "execute_result"
    }
   ],
   "source": [
    "# Select the best model based on ROC AUC (e.g., Random Forest)\n",
    "model_pipeline = Pipeline(steps=[\n",
    "        ('preprocessor', preprocessor),\n",
    "        ('classifier', RandomForestClassifier(n_estimators=100, max_depth=5, random_state=42))\n",
    "    ])\n",
    "\n",
    "# Fit the model\n",
    "model_pipeline.fit(X_train, y_train)\n",
    "\n",
    "# Save the model\n",
    "dump(model_pipeline, 'best_model_pipeline.joblib')"
   ]
  },
  {
   "cell_type": "code",
   "execution_count": 29,
   "id": "0686b436",
   "metadata": {
    "execution": {
     "iopub.execute_input": "2024-09-14T19:45:48.970064Z",
     "iopub.status.busy": "2024-09-14T19:45:48.969553Z",
     "iopub.status.idle": "2024-09-14T19:45:49.033693Z",
     "shell.execute_reply": "2024-09-14T19:45:49.032458Z"
    },
    "papermill": {
     "duration": 0.090213,
     "end_time": "2024-09-14T19:45:49.036836",
     "exception": false,
     "start_time": "2024-09-14T19:45:48.946623",
     "status": "completed"
    },
    "tags": []
   },
   "outputs": [],
   "source": [
    "# Load the model\n",
    "model = load('best_model_pipeline.joblib')"
   ]
  },
  {
   "cell_type": "code",
   "execution_count": 30,
   "id": "a2e67789",
   "metadata": {
    "execution": {
     "iopub.execute_input": "2024-09-14T19:45:49.080488Z",
     "iopub.status.busy": "2024-09-14T19:45:49.080069Z",
     "iopub.status.idle": "2024-09-14T19:45:49.114058Z",
     "shell.execute_reply": "2024-09-14T19:45:49.112813Z"
    },
    "papermill": {
     "duration": 0.059297,
     "end_time": "2024-09-14T19:45:49.117003",
     "exception": false,
     "start_time": "2024-09-14T19:45:49.057706",
     "status": "completed"
    },
    "tags": []
   },
   "outputs": [],
   "source": [
    "# Predict with test data\n",
    "test_predictions = model.predict(test_data)\n",
    "\n",
    "# Making a new dataframe called Submission\n",
    "submission = pd.DataFrame({\n",
    "    \"PassengerId\": test['PassengerId'],\n",
    "    \"Survived\": test_predictions\n",
    "})\n",
    "\n",
    "# Save the submission to a CSV file\n",
    "submission.to_csv('submission.csv', index=False)"
   ]
  },
  {
   "cell_type": "markdown",
   "id": "4f17f564",
   "metadata": {
    "papermill": {
     "duration": 0.020486,
     "end_time": "2024-09-14T19:45:49.158492",
     "exception": false,
     "start_time": "2024-09-14T19:45:49.138006",
     "status": "completed"
    },
    "tags": []
   },
   "source": [
    "## Analysis:\n",
    "\n",
    "#### 1. Accuracy:\n",
    "- **Best:** K-Nearest Neighbors (`0.8156`)\n",
    "- SVM and Logistic Regression also perform well with an accuracy of `0.8101`.\n",
    "\n",
    "#### 2. ROC AUC:\n",
    "- **Best:** Random Forest (`0.8923`)\n",
    "- Gradient Boosting is close behind with a ROC AUC of `0.8879`.\n",
    "\n",
    "### Model Selection: Random Forest\n",
    "\n",
    "Given the high ROC AUC, Random Forest was chosen as the final model for deployment.\n",
    "\n",
    "---\n",
    "\n",
    "## Saving the Model\n",
    "\n",
    "We saved the Random Forest model using `joblib` for future use.\n",
    "\n",
    "---\n",
    "\n",
    "## Submission\n",
    "\n",
    "Predictions were generated on the test set, and a `submission.csv` file was created for submission to the Kaggle competition.\n",
    "\n",
    "---\n",
    "\n",
    "\n",
    "## Conclusion\n",
    "\n",
    "- **Random Forest** emerged as the best model with the highest ROC AUC of 0.8923, indicating its superior ability to distinguish between survivors and non-survivors.\n",
    "- Although **K-Nearest Neighbors** achieved the highest accuracy at 0.8156, its ROC AUC was slightly lower compared to Random Forest.\n",
    "- The Random Forest model was selected for deployment due to its balance of high accuracy and ROC AUC performance.\n",
    "- The model was saved for future use, and predictions were generated and submitted for the Kaggle competition.\n"
   ]
  }
 ],
 "metadata": {
  "kaggle": {
   "accelerator": "none",
   "dataSources": [
    {
     "databundleVersionId": 26502,
     "sourceId": 3136,
     "sourceType": "competition"
    }
   ],
   "dockerImageVersionId": 30761,
   "isGpuEnabled": false,
   "isInternetEnabled": true,
   "language": "python",
   "sourceType": "notebook"
  },
  "kernelspec": {
   "display_name": "Python 3",
   "language": "python",
   "name": "python3"
  },
  "language_info": {
   "codemirror_mode": {
    "name": "ipython",
    "version": 3
   },
   "file_extension": ".py",
   "mimetype": "text/x-python",
   "name": "python",
   "nbconvert_exporter": "python",
   "pygments_lexer": "ipython3",
   "version": "3.10.14"
  },
  "papermill": {
   "default_parameters": {},
   "duration": 13.723229,
   "end_time": "2024-09-14T19:45:49.902821",
   "environment_variables": {},
   "exception": null,
   "input_path": "__notebook__.ipynb",
   "output_path": "__notebook__.ipynb",
   "parameters": {},
   "start_time": "2024-09-14T19:45:36.179592",
   "version": "2.6.0"
  }
 },
 "nbformat": 4,
 "nbformat_minor": 5
}
